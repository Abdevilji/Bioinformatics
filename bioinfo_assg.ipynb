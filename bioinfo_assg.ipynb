{
 "cells": [
  {
   "cell_type": "code",
   "execution_count": null,
   "metadata": {},
   "outputs": [],
   "source": [
    "# ISC 211 Introduction to Bioinformatics\n",
    "## Programming Assignment \n",
    "\n",
    "- Name : Abhishek harsh\n",
    "- Rollno : 2021BCS0036"
   ]
  },
  {
   "cell_type": "markdown",
   "metadata": {},
   "source": []
  },
  {
   "cell_type": "code",
   "execution_count": 8,
   "metadata": {},
   "outputs": [],
   "source": [
    "#basic approach for question 1\n",
    "def findsubstring(s,t):\n",
    "    index_arr = []\n",
    "    for i in range(len(s)):\n",
    "        if s[i:i+len(t)] == t:\n",
    "            index_arr.append(i + 1)\n",
    "    return index_arr"
   ]
  },
  {
   "cell_type": "code",
   "execution_count": 12,
   "metadata": {},
   "outputs": [],
   "source": [
    "#efficient approach for question 1\n",
    "def KMPSearch(pat, txt):\n",
    "    M = len(pat)\n",
    "    N = len(txt)\n",
    "    lps = [0] * M\n",
    "    j = 0\n",
    "    computeLPSArray(pat, M, lps)\n",
    "    i = 0\n",
    "    index_arr = []\n",
    "    while i < N:\n",
    "        if pat[j] == txt[i]:\n",
    "            i += 1\n",
    "            j += 1\n",
    "        if j == M:\n",
    "            index_arr.append(i-j+1)\n",
    "            j = lps[j-1]\n",
    "        elif i < N and pat[j] != txt[i]:\n",
    "            if j != 0:\n",
    "                j = lps[j-1]\n",
    "            else:\n",
    "                i += 1\n",
    "    return index_arr\n",
    "\n",
    "def computeLPSArray(pat, M, lps):\n",
    "    len = 0\n",
    "    lps[0] = 0\n",
    "    i = 1\n",
    "    while i < M:\n",
    "        if pat[i] == pat[len]:\n",
    "            len += 1\n",
    "            lps[i] = len\n",
    "            i += 1\n",
    "        else:\n",
    "            if len != 0:\n",
    "                len = lps[len-1]\n",
    "            else:\n",
    "                lps[i] = 0\n",
    "                i += 1\n"
   ]
  },
  {
   "cell_type": "code",
   "execution_count": 15,
   "metadata": {},
   "outputs": [
    {
     "name": "stdout",
     "output_type": "stream",
     "text": [
      "abcabbaaababababbaab\n",
      "bb\n",
      "[5, 16]\n",
      "[5, 16]\n"
     ]
    }
   ],
   "source": [
    "s = input()\n",
    "t = input()\n",
    "print(s + \"\\n\" + t)\n",
    "print(findsubstring(s, t))\n",
    "print(KMPSearch(t, s))"
   ]
  },
  {
   "cell_type": "code",
   "execution_count": 4,
   "metadata": {},
   "outputs": [
    {
     "name": "stdout",
     "output_type": "stream",
     "text": [
      "aa\n",
      "ab\n",
      "ac\n",
      "ba\n",
      "bb\n",
      "bc\n",
      "ca\n",
      "cb\n",
      "cc\n"
     ]
    }
   ],
   "source": [
    "#question 2\n",
    "def generate_strings(alphabet, n):\n",
    "    if n == 0:\n",
    "        return ['']\n",
    "    result = []\n",
    "    for char in alphabet:\n",
    "        for string in generate_strings(alphabet, n-1):\n",
    "            result.append(char + string)\n",
    "    result = list(set(result))\n",
    "    return sorted(result)\n",
    "\n",
    "alphabet = input()\n",
    "n = int(input())\n",
    "strings = generate_strings(alphabet, n)\n",
    "for string in strings:\n",
    "    print(string)\n"
   ]
  }
 ],
 "metadata": {
  "kernelspec": {
   "display_name": "Python 3 (ipykernel)",
   "language": "python",
   "name": "python3"
  },
  "language_info": {
   "codemirror_mode": {
    "name": "ipython",
    "version": 3
   },
   "file_extension": ".py",
   "mimetype": "text/x-python",
   "name": "python",
   "nbconvert_exporter": "python",
   "pygments_lexer": "ipython3",
   "version": "3.10.6"
  },
  "vscode": {
   "interpreter": {
    "hash": "916dbcbb3f70747c44a77c7bcd40155683ae19c65e1c03b4aa3499c5328201f1"
   }
  }
 },
 "nbformat": 4,
 "nbformat_minor": 2
}
